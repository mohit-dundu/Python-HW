{
 "cells": [
  {
   "cell_type": "markdown",
   "metadata": {},
   "source": [
    "# Homework-1\n",
    "### Course: INSY 5336 001 - Python Programming (Spring 2022)\n",
    "### Name: Mohit Kumar Dundu\n",
    "### UTA ID: 1002011177"
   ]
  },
  {
   "cell_type": "markdown",
   "metadata": {},
   "source": [
    "## Question - 1: Reverse String Concatenation"
   ]
  },
  {
   "cell_type": "markdown",
   "metadata": {},
   "source": [
    "## Algorithm:\n",
    "1. Start by accepting three input strings from the user, namely: \"string1\", \"string2\", \"string3\"\n",
    "2. Concatenate \"string2\" with \"string1\" (for reverse order verification)\n",
    "3. Store the concatenated string in a new variable --> \"concat_string\"\n",
    "4. Verify whether \"concat_string\" is same as \"string3\"\n",
    "5. If \"concat_string\" is same as \"string3\", print \"They are equal\"\n",
    "6. If \"concat_string\" is __NOT__ same as \"string3\", print \"They are NOT equal\".\n",
    "7. End the program after printing the above statements."
   ]
  },
  {
   "cell_type": "markdown",
   "metadata": {},
   "source": [
    "## Instructions for running the program:\n",
    "- Upon running the program, enter three strings one at a time and hit enter after each input is provided"
   ]
  },
  {
   "cell_type": "markdown",
   "metadata": {},
   "source": [
    "## Expected results:\n",
    "- If first two strings are concatenated in reverse order (string2+string1), and it is same as string3, then the program prints \"They are equal\"\n",
    "- If first two strings are concatenated in reverse order (string2+string1), and it is NOT same as string3, then the program prints \"They are NOT equal\"\n",
    "\n",
    "### Example:\n",
    "1. Example for \"They are equal\"\n",
    "- Enter first string: you!\n",
    "- Enter second string: Thank\n",
    "- Enter third string: Thankyou!\n",
    "- They are equal\n",
    "2. Example for \"They are NOT equal\"\n",
    "- Enter first string: you2!\n",
    "- Enter second string: Thank\n",
    "- Enter third string: Thankyou!\n",
    "- They are NOT equal"
   ]
  },
  {
   "cell_type": "code",
   "execution_count": null,
   "metadata": {},
   "outputs": [],
   "source": [
    "'''\n",
    "Here in this problem, we are concatenating the second string with first string to produce a new string.\n",
    "Now, we need to verify whether this new string is same as the third string.\n",
    "If it is same, then the program prints \"They are equal\".\n",
    "If they are not same, the program prints \"They are NOT equal\"\n",
    "'''\n",
    "\n",
    "#User enters 3 different strings namely string1, string2, string3\n",
    "string1 = input(\"Enter String 1: \")\n",
    "string2 = input(\"Enter String 2: \")\n",
    "string3 = input(\"Enter String 3: \")\n",
    "#Concatenating string2 with string1 to produce a new string in reverse order, and storing it in \"concat_string\"\n",
    "concat_string = string2 + string1\n",
    "#Compare whether the new concatenated string is same as string3\n",
    "if concat_string == string3:\n",
    "    #Printing \"They are equal\" if the strings match\n",
    "    print(\"They are equal\")\n",
    "else:\n",
    "    #Printing \"They are NOT equal\" if the strings DO NOT match\n",
    "    print(\"They are NOT equal\")"
   ]
  },
  {
   "cell_type": "markdown",
   "metadata": {},
   "source": [
    "## Question-2: Average and Highest Number"
   ]
  },
  {
   "cell_type": "markdown",
   "metadata": {},
   "source": [
    "## Algorithm\n",
    "1. Start a try block which accepts only integer values \n",
    "2. Accept an input of number of integers (n) for which average needs to be calculated\n",
    "3. If \"n\" is 3, then input 3 numbers from the user\n",
    "4. Add the three numbers and divide it by n to get average, and save it in a variable \"average_3\"\n",
    "5. Convert \"average_3\" into float value with only 2 decimal places and save it into a final variable \"avg_val_dec\"\n",
    "6. Print \"avg_val_dec\"\n",
    "7. Find the maximum number of the three numbers by comparing each number with the other two and save it as \"highest_num\"\n",
    "8. Print \"highest_num\"\n",
    "9. If \"n\" is 4, input 4 numbers from the user\n",
    "10. Add the four numbers and divide it by n to get average, and save it in a variable \"average_4\"\n",
    "11. Convert \"average_4\" into float value with only 2 decimal places and save it into a final variable \"avg_val_dec\"\n",
    "12. Print \"avg_val_dec\"\n",
    "13. Find the maximum number of the four numbers by comparing each number with the other three and save it in \"highest_num\"\n",
    "14. Print \"highest_num\"\n",
    "15. If the user does not enter an integer, the except block is executed and an exception is raised\n",
    "16. End the program after printing both the average and highest number of the provided inputs"
   ]
  },
  {
   "cell_type": "markdown",
   "metadata": {},
   "source": [
    "## Instructions for running the program\n",
    "- Upon executing the program, firstly, enter the number of integers \"n\" for which we need to compute the average and highest number\n",
    "- If n is 3, input 3 integers. Or if n is 4, input 4 integers one at a time\n",
    "- Strictly enter only integer values, but not char or float, as stated in the problem"
   ]
  },
  {
   "cell_type": "markdown",
   "metadata": {},
   "source": [
    "## Expected Results:\n",
    "- If the user enters 3 or 4 inputs, average of those entered values is printed on the screen alongwith the highest value of those inputs\n",
    "- If at any point during executing the program the user inputs a float or a string instead of integer, an exception is raised saying \"You did not enter an integer\"\n",
    "\n",
    "### Example:\n",
    "1. \n",
    "- Enter set of 3 or 4 integers: 3\n",
    "- Enter first number: 7\n",
    "- Enter second number: 10\n",
    "- Enter third number: 1\n",
    "- The average of 7, 10 and 1 is: 6.0\n",
    "- The maximum of the three numbers is: 10\n",
    "- Enter set of 3 or 4 integers: 4\n",
    "2. \n",
    "- Enter first number: 7\n",
    "- Enter second number: 10\n",
    "- Enter third number: 1\n",
    "- Enter fourth number: 6\n",
    "- The average of 7, 10 and 1 is: 6.0\n",
    "- The maximum of the three numbers is: 10"
   ]
  },
  {
   "cell_type": "code",
   "execution_count": null,
   "metadata": {},
   "outputs": [],
   "source": [
    "'''\n",
    "In this problem, integers are accepted from the user (3 or 4: depending on the user). After accepting the integers,\n",
    "the average of all those integers is computed and the result with two decimal places is printed.\n",
    "Then, the highest number of all the entered inputs is calculated and printed.\n",
    "'''\n",
    "\n",
    "# Executing the try block incase the user does not enter an integer\n",
    "# Since the problem requires only integ                 er input, an exception is raised at the except block if a float or string value is passed\n",
    "try:\n",
    "    # Accepting the number of integers for which the average value and highest number needs to be computed.\n",
    "    n = int(input(\"Enter the number of integers (only 3 or 4):\"))\n",
    "    # If the user inputs 3, the following if block is executed\n",
    "    if n == 3:\n",
    "        # Accepting three different integer inputs from the user\n",
    "        num1 = int(input(\"Enter the first integer:\"))\n",
    "        num2 = int(input(\"Enter the second integer:\"))\n",
    "        num3 = int(input(\"Enter the third integer:\"))\n",
    "        # Computing arithmetic mean/average of the three numbers entered by the user\n",
    "        average_3 = (num1 + num2 + num3)/n\n",
    "        # Using %.2f% to convert the average value into float with 2 decimal places\n",
    "        avg_val_dec = '%.2f'%average_3\n",
    "        # Printing the average value\n",
    "        print(\"Average value of the 3 entered numbers upto 2 decimals is: \", avg_val_dec)\n",
    "        # Calculating the highest number of the three numbers entered, by comparing one number at a time with the other two numbers\n",
    "        # Comparing num1 with num2 and num3. If the statement satisfies, the the highest number is num1, saved in variable highest_num\n",
    "        if num1 >= num2 and num1 >= num3:\n",
    "            highest_num = num1\n",
    "        # If num1 is not highest, then comparing num2 with num1 and num3. If the statement satisfies, the the highest number is num2, saved in variable highest_num\n",
    "        elif num2 >= num1 and num2 >= num3:\n",
    "            highest_num = num2\n",
    "        # If num1 and num2 are not highest, then comparing num3 with num1 and num3. If the statement satisfies, the the highest number is num2, saved in variable highest_num\n",
    "        elif num3 >= num1 and num3 >= num2:\n",
    "            highest_num = num3\n",
    "        # Printing highest number\n",
    "        print(\"Highest number of the three entered is: \", highest_num)\n",
    "    # If the user inputs 4, the following if block is executed\n",
    "    elif n == 4:\n",
    "        # Accepting three different integer inputs from the user\n",
    "        num1 = int(input(\"Enter the first integer:\"))\n",
    "        num2 = int(input(\"Enter the second integer:\"))\n",
    "        num3 = int(input(\"Enter the third integer:\"))\n",
    "        num4 = int(input(\"Enter the fourth integer:\"))\n",
    "        # Computing arithmetic mean/average of the three numbers entered by the user\n",
    "        average_4 = (num1 + num2 + num3 + num4)/n\n",
    "        # Using %.2f% to convert the average value into float with 2 decimal places\n",
    "        avg_val_dec = '%.2f'%average_4\n",
    "        # Printing the average value\n",
    "        print(\"Average value of the 4 entered numbers upto 2 decimals is: \", avg_val_dec)\n",
    "        # Calculating the highest number of the three numbers entered, by comparing one number at a time with the other two numbers\n",
    "        # Comparing num1 with num2, num3 and num4. If the statement satisfies, the the highest number is num1, saved in variable highest_\n",
    "        if num1 >= num2 and num1 >= num3 and num1 >= num4:\n",
    "            highest_num = num1\n",
    "        # If num1 is not highest, then comparing num2 with num1, num3 and num4. If the statement satisfies, the the highest number is num2, saved in variable highest_num\n",
    "        elif num2 >= num1 and num2 >= num3 and num2 >= num4:\n",
    "            highest_num = num2\n",
    "        # If num2 is not highest, then comparing num3 with num1, num2 and num4. If the statement satisfies, the the highest number is num2, saved in variable highest_num\n",
    "        elif num3 >= num1 and num3 >= num2 and num3 >= num4:\n",
    "            highest_num = num3\n",
    "        # If num1 is not highest, then comparing num4 with num1, num2 and num3. If the statement satisfies, the the highest number is num2, saved in variable highest_num\n",
    "        elif num4 >= num1 and num4 >= num2 and num4 >= num3:\n",
    "            highest_num = num4\n",
    "        # Printing highest number\n",
    "        print(\"Highest number of the three entered is: \", highest_num)\n",
    "    else:\n",
    "        # If the the user does not enter either 3 or 4 when prompted for 'n', this else block is executed\n",
    "        print(\"Entered number is neither 3 nor 4\")\n",
    "except:\n",
    "    # If the user enters float or string value when prompted for integer, this except block is executed\n",
    "    print(\"You did not enter an integer value\")"
   ]
  },
  {
   "cell_type": "markdown",
   "metadata": {},
   "source": [
    "## Question-3: Prime and Composite numbers"
   ]
  },
  {
   "cell_type": "markdown",
   "metadata": {},
   "source": [
    "## Algorithm\n",
    "1. Start a try block, then accept an integer 'n' from the user\n",
    "2. If n is greater than 1, set a boolean flag (\"prime_bool\") as False\n",
    "3. Start a for loop with a variable iterator 'i' for checking the divisibility, starting from range 2 and goes till half of the value of n which is (n/2 + 1)\n",
    "4. If 'n' is divisible by any of the value of 'i', set 'prime_bool' as True\n",
    "5. Break out of the loop\n",
    "6. If 'prime_bool' is True, it means the number 'n' has a divisor other than 1 and itself, so it is a Composite Number. Print the same\n",
    "7. If 'prime_bool' is False, it means the number 'n' DOES NOT have a divisor other than 1 and itself, so it is a Prime Number. Print the same\n",
    "8. Else if 'n' is equal to either 0 or 1, print that the number is neither prime nor composite\n",
    "9. Else if 'n' is less than 0, then the value is negative so print that the user did not enter a positive integer\n",
    "10. If the user did not input an integer, the except block is executed where it is printed that the user did not enter a integer"
   ]
  },
  {
   "cell_type": "markdown",
   "metadata": {},
   "source": [
    "## Instructions for running the program:\n",
    "- After running the program, input an integer (ideally, greater than or equal to 0 for checking whether it is prime or composite). And hit enter after each input is provided"
   ]
  },
  {
   "cell_type": "markdown",
   "metadata": {},
   "source": [
    "## Expected results:\n",
    "- If n is equal to 0 or 1, \"It is neither prime nor composite\" is printed.\n",
    "- If n is less than 0, \"Error: You did not enter a positive integer\" is printed.\n",
    "- If n is print, \"It is Prime\" is printed.\n",
    "- If n is composite, \"It is Composite\" is printed.\n",
    "- If n is not an integer, \"Error: You did not enter an integer\" is printed.\n",
    "\n",
    "### Example:\n",
    "- Enter positive integer: 3\n",
    "    It is a prime\n",
    "- Enter positive integer: 4\n",
    "    It is a composite\n",
    "- Enter positive integer: 1\n",
    "    It is neither prime nor composite\n",
    "- Enter positive integer: -5\n",
    "    Error: You did not enter a positive integer\n",
    "- Enter positive integer: -2.5\n",
    "    Error: You did not enter a positive integer\n",
    "- Enter positive integer: Hi\n",
    "    Error: You did not enter an integer"
   ]
  },
  {
   "cell_type": "code",
   "execution_count": null,
   "metadata": {
    "scrolled": false
   },
   "outputs": [],
   "source": [
    "'''\n",
    "This problem is about finding whether a number is a prime number or a composite number or neither.\n",
    "An integer is accepted from the user. If it is a prime number, the program prints that the \n",
    "entered number is Prime, else if it is a composite number, it prints that the number is Composite.\n",
    "If the user enters 0 or 1, they are neither Prime nor Composite. But if the user enters negative integers or float values,\n",
    "Error is returned. Same for String input, Error is returned.\n",
    "'''\n",
    "\n",
    "# Executing the try block incase the user does not enter an integer\n",
    "# Since the problem requires only integer input, an exception is raised at the except block if a float or string value is passed\n",
    "try:\n",
    "    # Accept an integer input from the user to check if it is prime or composite\n",
    "    n = int(input(\"Enter no: \"))\n",
    "    # Checking if n is greater than 1 because prime or composite numbers start from 2\n",
    "    if n>1:\n",
    "        # Setting a boolean flag as False for verification purpose at a later stage\n",
    "        prime_bool = False\n",
    "        # Running through For loop to check the divisibility of 'n' starting from 2 till n/2\n",
    "        # n/2 is the middle value, which is the largest possible divisor of n\n",
    "        # n/2 could be an integer or a float value, so to round off to the nearest integer, we conasider (n/2)+1\n",
    "        # for loop considers one integer lesser in its upper limit\n",
    "        # For example, range(0,5) starts from 0 and ends at 4\n",
    "        for i in range(2,int(n/2)+1):\n",
    "            # If at any point during the iteration, n is divisible by the iterator i, it is a composite number\n",
    "            # Checking if the number is divisible, then the remainder is equal to 0\n",
    "            if n%i == 0:\n",
    "                # Overwriting the boolean operator from False to True and breaking the loop whenever the remainder is 0\n",
    "                prime_bool = True\n",
    "                break\n",
    "        # If the boolean value is True, n is a Composite number\n",
    "        if prime_bool == True:\n",
    "            print(\"It is Composite\")\n",
    "        # If the boolean value is False, n is a Prime number\n",
    "        else:\n",
    "            print(\"It is Prime\")\n",
    "    # If n is neither 0 nor 1, as per math rules, it is neither prime nor composite number\n",
    "    elif (n == 0) or (n == 1):\n",
    "        print(\"It is neither prime nor composite\")\n",
    "    # Negative numbers do not qualify for prime or composite checking, so the input is invalid\n",
    "    elif n<0:\n",
    "        print(\"Error: You did not enter a positive integer\")\n",
    "except:\n",
    "    # If the user does not enter an integer, an exception is raised\n",
    "    print(\"Error: You did not enter an integer\")"
   ]
  },
  {
   "cell_type": "markdown",
   "metadata": {},
   "source": [
    "## Question-4: Third point lies inside the rectangle or not"
   ]
  },
  {
   "cell_type": "markdown",
   "metadata": {},
   "source": [
    "## Algorithm\n",
    "1. Start a try block for accepting float or integer coordinates for point1 (x1,y1) and then for point2 (x2,y2).\n",
    "2. If Point1 and Point2 are same, end the program  because two diagonally opposite points of rectangle cannot be same\n",
    "3. Else, take input of the third point to check whether it is inside or outside the rectangle\n",
    "4. If x1 and y1 are less than or equal to x2 and y2 respectively, then x and y need to lie on or between x1,x2 and y1,y2 respectively\n",
    "5. If the above condition satisfies, then the point lies on or inside the rectangle, print True\n",
    "6. Else the point lies outside the rectangle, print False\n",
    "7. If x1 and y1 are greater than or equal to x2 and y2 respectively, then x and y need to lie on or between x2,x1 and y2,y1 respectively\n",
    "8. If the above condition satisfies, then the point lies on or inside the rectangle, print True\n",
    "9. Else the point lies outside the rectangle, print False\n",
    "10. If x1 is less than or equal to x2, and y1 is greater than or equal to y2, then x and y need to lie on or between x1,x2 and y2,y1 respectively\n",
    "11. Else if the above condition satisfies, then the point lies on or inside the rectangle, print True\n",
    "12. Else the point lies outside the rectangle, print False\n",
    "13. If x2 is less than or equal to x1, and y1 is less than or equal to y2, then x and y need to lie on or between x2,x1 and y1,y2 respectively\n",
    "14. If the above condition satisfies, then the point lies on or inside the rectangle, print True\n",
    "15. Else the point lies outside the traingle, print False\n",
    "16. If at any point during the program execution, if the user does not enter float or integer, an exception is raised.\n",
    "17. End the program"
   ]
  },
  {
   "cell_type": "markdown",
   "metadata": {},
   "source": [
    "## Instructions for running the program\n",
    "- Upon executing the program, when prompted for x or y coordinates, input only integer or float values but not string/char\n",
    "- Input only x or y coordinate of a point at a time as prompted, without using commas as used in coordinate geometry\n",
    "- Firstly enter the first point of the rectangle (x1 then y1), then enter the second point (x2 then y2) which is supposed to be diagonally opposite\n",
    "- Point 1 and Point 2 should not be the same as two diagonally opposite points of a rectangle need to be different\n",
    "- After entering Point 1 (x1,y1) and Point 2 (x2,y2), only then input Point 3 (x,y)"
   ]
  },
  {
   "cell_type": "markdown",
   "metadata": {},
   "source": [
    "## Expected results\n",
    "- If the third point lies within or on the rectangle, boolean \"True\" is printed\n",
    "- If the third point DOES NOT lie within or on the rectangle, boolean \"False\" is printed\n",
    "- If point1 and point2 are same, \"Invalid input as no two points of the rectangle can be same\" is printed\n",
    "- If integer or float values are not entered, then exception is raised.\n",
    "\n",
    "### Example:\n",
    "1. Example for True:\n",
    "- Enter x1: 1\n",
    "- Enter y1: 3\n",
    "- Enter x2: 10\n",
    "- Enter y2: 6\n",
    "- Enter x: 4\n",
    "- Enter y: 4\n",
    "- True\n",
    "2. Example for False:\n",
    "- Enter x1: 1\n",
    "- Enter y1: 3\n",
    "- Enter x2: 10\n",
    "- Enter y2: 6\n",
    "- Enter x: 4\n",
    "- Enter y: 2\n",
    "- False"
   ]
  },
  {
   "cell_type": "code",
   "execution_count": null,
   "metadata": {},
   "outputs": [],
   "source": [
    "'''\n",
    "The idea behind this problem is to find out whether a point lies inside the triangle or not, when two\n",
    "diagonally opposite points are given.\n",
    "Firstly, we accept the x and y coordinates for the two diagonally opposite points. Then, we proceed\n",
    "to accept the third point. \n",
    "Based on the bounds of point1 and point2, the x of point3 should lie on or\n",
    "between x1 and x2, and y of point3 should lie on or between y1 and y2.\n",
    "If the above condition is satisfied, then the third point lies on or inside the rectangle.\n",
    "Else it lies outside the rectangle\n",
    "'''\n",
    "# Executing the try block to accept integer or float values for coordinates\n",
    "try:\n",
    "    # Accepting inputs for x1 and y1 coordinates or point1\n",
    "    x1 = float(input(\"Enter the x coordinates of first point: \"))\n",
    "    y1 = float(input(\"Enter the y coordinates of first point: \"))\n",
    "    # Printing the first point accepted from the user\n",
    "    print(\"The first point is ({}, {})\". format(x1,y1))\n",
    "    # Accepting inputs for x2 and y2 coordinates or point1\n",
    "    x2 = float(input(\"Enter the x coordinates of second point: \"))\n",
    "    y2 = float(input(\"Enter the y coordinates of second point: \"))\n",
    "    # Printing the second point accepted from the user\n",
    "    print(\"The second point is ({}, {})\". format(x2,y2))\n",
    "    # Since point1 and point2 are diagonally opposite points of a rectangle, all the coordinates cannot be same. \n",
    "    # Evaluating this condition using If statement\n",
    "    if x1==x2 and y1==y2:\n",
    "        print(\"Invalid input as no two points of the rectangle can be same\")\n",
    "    else:\n",
    "        # If point1 and point2 are different, they can still form diagonally opposites point of the rectangle\n",
    "        # So, accepting the third point from the user for checking if it is inside or outside the rectangle\n",
    "        x = float(input(\"Enter the x coordinates of third point: \"))\n",
    "        y = float(input(\"Enter the y coordinates of third point: \"))\n",
    "        # Printing the point3\n",
    "        print(\"The third point is ({}, {})\". format(x,y))\n",
    "        # Evaluating the quadrants in which point1 and point2 are located\n",
    "        # Based on the quadrants, we get an idea of the limits in which the coordinates of point3\n",
    "        if x1<=x2 and y1<=y2:\n",
    "            # If x1 and y1 are less than or equal to x2 and y2 respectively, \n",
    "            # then x and y need to lie on or between x1,x2 and y1,y2 respectively.\n",
    "            # If the condition is satisfied, True is printed. Else, False is printed\n",
    "            print ((x1<=x) & (x <= x2) & (y1 <= y) & (y <= y2))\n",
    "        elif x1 >= x2 and y1 >= y2:\n",
    "            # If x1 and y1 are greater than or equal to x2 and y2 respectively, \n",
    "            # then x and y need to lie on or between x2,x1 and y2,y1 respectively.\n",
    "            # If the condition is satisfies, True is printed. Else, False is printed\n",
    "            print((x2 <= x) & (x <= x1) & (y2 <= y) & (y <= y1))\n",
    "        elif x1 <= x2 and y1 >= y2:\n",
    "            # If x1 is less than or equal to x2, and y1 is greater than or equal to y2, \n",
    "            # then x and y need to lie on or between x1,x2 and y2,y1 respectively.\n",
    "            # If the condition is satisfies, True is printed. Else, False is printed\n",
    "            print((x1 <= x) & (x <= x2) & (y2 <= y) & (y <= y1))\n",
    "        elif x1 >= x2 and y1 <= y2:\n",
    "            # If x2 is less than or equal to x1, and y1 is less than or equal to y2, \n",
    "            # then x and y need to lie on or between x2,x1 and y1,y2\n",
    "            # If the condition is satisfies, True is printed. Else, False is printed\n",
    "            print((x2 <= x) & (x <= x1) & (y1 <= y) & (y <= y2))\n",
    "except:\n",
    "    # If the user did not input float or integer, exception is raised\n",
    "    print(\"You did not enter integer or float value\")"
   ]
  },
  {
   "cell_type": "markdown",
   "metadata": {},
   "source": [
    "## Question-5: Simple Interest"
   ]
  },
  {
   "cell_type": "markdown",
   "metadata": {},
   "source": [
    "## Algorithm:\n",
    "1. Start by writing a function 'SimpleInterest' for computing the simple interest which accepts three attributes namely Principle, Interest, Years\n",
    "2. Compute the simple interest by multiplying Principle with Interest and Years, and divide this value by 100.\n",
    "3. Store the above result in the variable simple_interest\n",
    "4. Function returns the value simple_interest\n",
    "5. Start a try block which accepts float value of \"Principle\"\n",
    "6. If \"Principle\" is less than or equal to '0', print \"Principle need to be greater than 0\" and stop the program\n",
    "7. Else accept the float value for \"Interest\"\n",
    "8. If \"Interest\" is greater than 100 or less than 0, print \"Interest does not lie between 0 and 100\" and stop the program\n",
    "9. Else accept the integer value for \"Years\"\n",
    "10. If Years is less than 0, print \"Years cannot be less than 0\" and stop the program\n",
    "11. Else call the function SimpleInterest and compute the simple interest using the variables entered by the user\n",
    "12. Print simple interest \n",
    "13. If at any point during the program execution, if the user does not enter float value for Principle or Interest, or integer value for Years, an exception is raised.\n",
    "14. End the program"
   ]
  },
  {
   "cell_type": "markdown",
   "metadata": {},
   "source": [
    "## Instructions for running the program:\n",
    "- After running the program, enter float values for Principle and Interest rate, then integer value for Years, one by one."
   ]
  },
  {
   "cell_type": "markdown",
   "metadata": {},
   "source": [
    "## Expected results:\n",
    "- Execute the code cell that contains the function first. Then proceed to run the second code cell\n",
    "- Upon entering valid inputs for Principle, Interest and Years, the program computes and returns the value for Simple Interest using the function SimpleInterest"
   ]
  },
  {
   "cell_type": "code",
   "execution_count": 3,
   "metadata": {},
   "outputs": [],
   "source": [
    "'''\n",
    "This problem needs us to create a function named SimpleInterest with three attributes namely, \"Principle\", \"Years\", \"Interest\".\n",
    "The function then computes the Simple Interest using the formula : {(Principle*Interest*Years)/100} and returns its value.\n",
    "'''\n",
    "# Creating a function SimpleInterest with attributes Principle, Interest and Years\n",
    "def SimpleInterest(Principle,Interest,Years):\n",
    "    # Formula for Simple Interest\n",
    "    simple_interest = (Principle*Interest*Years)/100\n",
    "    # Returning the value for this function\n",
    "    return simple_interest"
   ]
  },
  {
   "cell_type": "code",
   "execution_count": 4,
   "metadata": {},
   "outputs": [
    {
     "name": "stdout",
     "output_type": "stream",
     "text": [
      "Enter the Principle amount: 1\n",
      "Enter the Interest rate %: 2\n",
      "Enter the Years: 3\n",
      "Simple Interest is:  0.06\n"
     ]
    }
   ],
   "source": [
    "'''\n",
    "This program is a continuation of the function created in the above code cell.\n",
    "Three inputs from the user for Principle, Interest and Years are accepted. \n",
    "Using the function \"SimpleInterest\", the simple interest with the given parameters is calculated.\n",
    "'''\n",
    "# Executing the try block to accept integer values for Years and float values for Principle and Interest\n",
    "try:\n",
    "    # Accept Principle from the user\n",
    "    Principle  = float(input(\"Enter the Principle amount: \"))\n",
    "    # Principle cannot be 0 or less for any borrowed amount. If not, then program is terminated\n",
    "    if (Principle<=0):\n",
    "        print(\"Principle cannot be less than or equal to zero\")\n",
    "    else:\n",
    "        # If the entered value for Principle is valid,  Interest is accepted from the user\n",
    "        Interest = float(input(\"Enter the Interest rate %: \"))\n",
    "        # Interest needs to be between 0 and 100\n",
    "        # If the value is invalid, then the program is terminated\n",
    "        if (Interest>100 or Interest<0):\n",
    "            print(\"Interest does not lie between 0 and 100\")\n",
    "        else:\n",
    "            # If the value of Interest is valid, Years value is accepted from the user\n",
    "            Years = int(input(\"Enter the Years: \"))\n",
    "            # Years cannot be less than 0. Can be equal to 0 because interest could be calculated right after borrowing money \n",
    "            if (Years<0):\n",
    "                # If the value of Years is invalid, program is terminated\n",
    "                print(\"Years cannot be less than 0\")\n",
    "            else:\n",
    "                # If the value of Years is valid, then we have all the required parameters for calculating Simple Interest\n",
    "                # Calling the function \"SimpleInterest\" to calculate Simple Interest, and printing the value\n",
    "                print(\"Simple Interest is: \", SimpleInterest(Principle,Interest,Years))\n",
    "except:\n",
    "    # If the entered values do not belong to the correct type, then Exception is raised in this Except block\n",
    "    print(\"Entered inputs are not float (for Principle and Interest) or int (for Years)\")"
   ]
  },
  {
   "cell_type": "code",
   "execution_count": null,
   "metadata": {},
   "outputs": [],
   "source": []
  }
 ],
 "metadata": {
  "kernelspec": {
   "display_name": "myenv",
   "language": "python",
   "name": "myenv"
  },
  "language_info": {
   "codemirror_mode": {
    "name": "ipython",
    "version": 3
   },
   "file_extension": ".py",
   "mimetype": "text/x-python",
   "name": "python",
   "nbconvert_exporter": "python",
   "pygments_lexer": "ipython3",
   "version": "3.8.5"
  }
 },
 "nbformat": 4,
 "nbformat_minor": 4
}
