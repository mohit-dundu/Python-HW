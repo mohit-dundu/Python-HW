{
 "cells": [
  {
   "cell_type": "markdown",
   "metadata": {},
   "source": [
    "# Homework-2\n",
    "### Course: INSY 5336 001 - Python Programming (Spring 2022)\n",
    "### Name: Mohit Kumar Dundu\n",
    "### UTA ID: 1002011177"
   ]
  },
  {
   "cell_type": "markdown",
   "metadata": {},
   "source": [
    "## Question-1: Rock-Paper-Scissors"
   ]
  },
  {
   "cell_type": "markdown",
   "metadata": {},
   "source": [
    "## Algorithm:\n",
    "1. Start a try block which accepts only string values.\n",
    "2. Accept an input of rock, paper or scissors from the user and convert it to lower cases for easy verification purpose.\n",
    "3. If the user input is either rock, paper or scissors then produce a random output in rock, paper or scissors from the computer.\n",
    "4. If the user input and random computer output is the same, then print \"User and Computer tie!\".\n",
    "5. Else if the user chooses rock and computer output is paper, then the computer wins.\n",
    "6. Else if the user chooses rock and computer output is scissors, then the user wins.\n",
    "7. Else if the user chooses paper and computer output is scissors, then the computer wins.\n",
    "8. ELse if the user chooses paper and computer output is rock, then the user wins.\n",
    "9. Else if the user chooses scissors and computer output is paper, then the user wins.\n",
    "10. Else if the user chooses scissors and computer output is rock, then the computer wins.\n",
    "11. If the user has not entered either of rock, paper or scissors, raise an error saying 'user did not enter rock, paper or scissors'.\n",
    "12. If the user did not enter a string value, raise an exception saying \"Invalid input\".\n",
    "13. End the program after printing the above results."
   ]
  },
  {
   "cell_type": "markdown",
   "metadata": {},
   "source": [
    "## Instructions for running the program:\n",
    "- Upon executing the program, when prompted for the user input, enter only 'rock', 'paper' or 'scissors' in any cases (lower or upper does not matter).\n",
    "- Entering 'scissor' will produce an error as the program expects only 'scissors'. Please be mindful of the spellings of the input strings."
   ]
  },
  {
   "cell_type": "markdown",
   "metadata": {},
   "source": [
    "## Expected results:\n",
    "- Rock wins over scissors, but loses with paper.\n",
    "- Scissors win over paper, but loses with rock.\n",
    "- Paper wins over rock, but loses with scissors.\n",
    "\n",
    "1. If the user and computer output are same, print \"User and Computer tie!\"\n",
    "2. Based on the user input and random computer output, as per the above conditions, if the user wins: \"You, the user, win!\" or \"I, the computer, win!\" is printed on the screen\n",
    "\n",
    "### Example:\n",
    "1. \n",
    "- Enter your input for Rock, Paper or Scissors: rock\n",
    "- User chooses:  rock\n",
    "- Computer chooses:  paper\n",
    "- I, the computer, win!\n",
    "\n",
    "2. \n",
    "- Enter your input for Rock, Paper or Scissors: hi\n",
    "- User chooses:  hi\n",
    "- You have not entered Rock, Paper or Scissors\n"
   ]
  },
  {
   "cell_type": "code",
   "execution_count": null,
   "metadata": {},
   "outputs": [],
   "source": [
    "# Importing random function to perform random choosing of rock, paper or scissors\n",
    "import random\n",
    "\n",
    "try:\n",
    "    # Accepting input from the user\n",
    "    user_input = input(\"Enter your input for Rock, Paper or Scissors: \")\n",
    "    # Converting the whole string to lower cases for processing\n",
    "    user_input = user_input.lower()\n",
    "    print(\"User chooses: \", user_input)\n",
    "    # Creating a list with rock, paper, scissors to choose randomly using random\n",
    "    all_list = ['rock', 'paper', 'scissors']\n",
    "    # If is used to check whether user input is rock, paper or scissor or something else\n",
    "    if user_input in all_list:\n",
    "        # Choosing a random element from the above list\n",
    "        comp_input = random.choice(all_list)\n",
    "        print('Computer chooses: ', comp_input)\n",
    "        # When both user and computer inputs are same\n",
    "        if user_input == comp_input:\n",
    "            print(\"User and Computer tie!\")\n",
    "        elif user_input == 'rock':\n",
    "            # Since paper covers rock, computer wins.\n",
    "            if comp_input == 'paper':\n",
    "                print(\"I, the computer, win!\")\n",
    "            # Since rock break the scissors, user wins\n",
    "            elif comp_input == 'scissors':\n",
    "                print(\"You, the user, win!\")\n",
    "        elif user_input == 'paper':\n",
    "            # Since scissors cut the paper, computer wins\n",
    "            if comp_input == 'scissors':\n",
    "                print(\"I, the computer, win!\")\n",
    "            # Since paper covers the rock, user wins\n",
    "            elif comp_input == 'rock':\n",
    "                print(\"You, the user, win!\")\n",
    "        elif user_input == 'scissors':\n",
    "            # Since scissors cut the paper, user wins\n",
    "            if comp_input == 'paper':\n",
    "                print(\"You, the user, win!\")\n",
    "            # Since rock breaks the scissors, computer wins\n",
    "            elif comp_input == 'rock':\n",
    "                print(\"I, the computer, win!\")\n",
    "    # If the user did not enter rock, paper or scissors, then the program is terminated\n",
    "    else:\n",
    "        print(\"You have not entered Rock, Paper or Scissors, hence terminating the program.\")\n",
    "except Exception as e:\n",
    "    # Exception is raised if the user does not enter a valid string and the exception 'e' is printed\n",
    "    print(\"Invalid input\")\n",
    "    print(e)"
   ]
  },
  {
   "cell_type": "markdown",
   "metadata": {},
   "source": [
    "## Question-2: Guessing the user number"
   ]
  },
  {
   "cell_type": "markdown",
   "metadata": {},
   "source": [
    "## Algorithm:\n",
    "1. Start a try block to accept only integer values.\n",
    "2. Accept an integer between 1 and 100 from the user.\n",
    "3. Produce a random output integer between 1 and 100 from the computer.\n",
    "4. While the computer output is not equal to the user input, keep producing random outputs.\n",
    "5. Increase the counter value by 1 in every guess.\n",
    "6. Once the computer guess is equal to the user input, print the number of guesses it took for the computer to predict the input number.\n",
    "7. If the user did not enter an integer value at the start of the program, raise an exception.\n",
    "8. End the program after printing the above results."
   ]
  },
  {
   "cell_type": "markdown",
   "metadata": {},
   "source": [
    "## Instructions for running the program:\n",
    "- Upon executing the program, enter only integer values else exception would be raised.\n",
    "- Ideally, integer values for this program need to be only between 1 and 100 else error would be raised and program would be terminated."
   ]
  },
  {
   "cell_type": "markdown",
   "metadata": {},
   "source": [
    "## Expected results:\n",
    "- If the user did not enter an integer between 1 and 100, \"You did not enter a number between 1 and 100, hence terminating the program\" is printed.\n",
    "- If the user did not enter an integer value, an exception is raised, \"You did not enter a valid number, hence exiting the program\" is printed.\n",
    "- If the user enters an input between 1 and 100, then \"You entered {integer input} and it took computer {number of guesses} attempts to guess it\" is printed.\n",
    "\n",
    "### Example:\n",
    "1. \n",
    "- Enter a number: 2\n",
    "- You entered 2 and it took computer 33 attempts to guess it\n",
    "2. \n",
    "- Enter a number: 33\n",
    "- You entered 2 and it took computer 7 attempts to guess it\n",
    "3. \n",
    "- Enter a number: hi\n",
    "- You did not enter a valid number, hence exiting the program\n",
    "4. \n",
    "- Enter a number: -2\n",
    "- You did not enter a number between 1 and 100, hence terminating the program.\n"
   ]
  },
  {
   "cell_type": "code",
   "execution_count": null,
   "metadata": {},
   "outputs": [],
   "source": [
    "# Importing random function to randomly choose a number between 1 and 100 inclusive\n",
    "import random\n",
    "\n",
    "try:\n",
    "    # Accept an integer input from the user\n",
    "    user_input = int(input(\"Enter a number between 1 and 100: \"))\n",
    "    # Check whether the number is valid and is between 1 and 100\n",
    "    if 1<=user_input<=100:\n",
    "        # Choose a number between 1 and 100 randomly\n",
    "        comp_input = random.randint(1,100)\n",
    "        # Initiate a counter and set to 0\n",
    "        count = 0\n",
    "        # The computer keeps guessing number while it is not equal to the user input\n",
    "        while comp_input != user_input:\n",
    "            # If the value is not equal, computer chooses randomly again\n",
    "            comp_input = random.randint(1,100)\n",
    "            # Increase the counter value by 1 every time the computer guesses it wrong\n",
    "            count+=1\n",
    "            # Below piece of commented code can be used to verify if the results are accurate or not\n",
    "#             print(\"Com input is: \", comp_input)\n",
    "#             print(\"Count value is: \", count)\n",
    "#             print(\"--------------\")\n",
    "        # Print the results on the screen\n",
    "        print(\"You entered {} and it took computer {} attempts to guess it\".format(user_input,count))\n",
    "    else:\n",
    "        # Terminate the program if the user did not enter an integer between 1 and 100\n",
    "        print(\"You did not enter a number between 1 and 100, hence terminating the program.\")\n",
    "except:\n",
    "    # Raise an exception if the user does not enter a valid integer\n",
    "    print(\"You did not enter a valid number, hence exiting the program\")"
   ]
  },
  {
   "cell_type": "markdown",
   "metadata": {},
   "source": [
    "## Question-3 - Counting the first occurences"
   ]
  },
  {
   "cell_type": "markdown",
   "metadata": {},
   "source": [
    "## Algorithm:\n",
    "1. Start by creating a function to count the first occurences of a character in a string with attributes being the 'input string' and 'first character'.\n",
    "2. Create a list of characters from a-z to validate the user input.\n",
    "3. Split up the words from the string into a list, removing spaces.\n",
    "4. If the input character exists in the list of characters from a-z, initiate the counter and set the value to 0.\n",
    "5. Check if the first letter of the words in the string start with the character entered by the user and initiate the flag to False.\n",
    "6. If it is true, then increase the counter by 1 and continue the loop and set the flag to True.\n",
    "7. Else continue the loop.\n",
    "8. If the flag is false, then no words with that first character so set count to 0.\n",
    "9. Print the results on the screen.\n",
    "10. Raise an error and terminate the program if the user enters an invalid input for the character.\n",
    "11. In the main code, accept a string from the user and convert it to lower cases.\n",
    "12. Then, accept a character input from the user and convert it to lower cases.\n",
    "13. Call the function and pass the above two inputs as function arguments.\n",
    "14. If the user did not enter string, raise an exception.\n",
    "15. End the program."
   ]
  },
  {
   "cell_type": "markdown",
   "metadata": {},
   "source": [
    "## Instructions for running the program:\n",
    "- Execute the code block having function first. Then execute the code block with main code.\n",
    "- Upon execution, the user will be prompted for two inputs: string input, character input (upper or lower cases does not matter)\n",
    "- First input needs to be the string input where the user enters a line\n",
    "- Second input needs to be the character input where the user needs to enter the charater for which we need to count the number of first occurences. Enter only a single character else exception is raised."
   ]
  },
  {
   "cell_type": "markdown",
   "metadata": {},
   "source": [
    "## Expected results:\n",
    "- If the user did not enter a string value, exception is raised.\n",
    "- If the user does not input characters from A-Z, error will be raised saying \"You did not enter a valid letter, hence terminating the program\".\n",
    "- If the user enters valid string and valid character from A-Z, then \"Your letter {character input} occurs as the first letter: {number of first occurences} times\" is printed.\n",
    "\n",
    "### Example:\n",
    "1. \n",
    "- Enter a string: twinkle Twinkle little star\n",
    "- Enter a letter to check the first occurences: T\n",
    "- Your letter t occurs as the first letter: 2 times\n",
    "2. \n",
    "- Enter a string: twinkle twinkle little star\n",
    "- Enter a letter to check the first occurences: 2\n",
    "- You did not enter a valid letter-except"
   ]
  },
  {
   "cell_type": "code",
   "execution_count": 1,
   "metadata": {},
   "outputs": [],
   "source": [
    "# Creating a function to count the number of first occurences of acharacter, as stated in the problem\n",
    "# The aguments of the function include the input string as well the character we need to count for first occurence\n",
    "# It is not mandatory for a function to return a value, so this function does not return any value\n",
    "def first_char_counter(string_input,letter_input):\n",
    "    # Creating a list of characters from a to z, to validate whether the user entered single character or multiple\n",
    "    small_letters = ['a','b','c','d','e','f','g','h','i','j','k','l','m','n','o','p','q','r','s','t','u','v','w','x','y','z']\n",
    "    # Splitting up the words from the string and appending into a list\n",
    "    string_words = string_input.split()\n",
    "    # Validating whether the user entered a character from a to z\n",
    "    if (letter_input in small_letters):\n",
    "        # Intiating a counter and setting the value to 0\n",
    "        count = 0\n",
    "        # Initiate a flag as False and loop through the list having words\n",
    "        flag = False\n",
    "        for i in string_words:\n",
    "            # Checking if the first character of the word is same as the user's input\n",
    "            if i[0] == letter_input:\n",
    "                # If it is same, increment the counter by 1 and set flag as True\n",
    "                count += 1\n",
    "                flag = True\n",
    "            # If the first character is not the same, continue the loop moving to next word\n",
    "            else:\n",
    "                continue\n",
    "        # If there is no word that starts with the input character, the flag remains False and we set the count as 0\n",
    "        if flag == False:\n",
    "            count = 0\n",
    "        print(\"Your letter {} occurs as the first letter: {} times\".format(letter_input, count))\n",
    "    else:\n",
    "        print(\"You did not enter a valid letter, hence terminating the program.\")"
   ]
  },
  {
   "cell_type": "code",
   "execution_count": 2,
   "metadata": {},
   "outputs": [
    {
     "name": "stdout",
     "output_type": "stream",
     "text": [
      "Enter a string: hello hello hi ?qwe\n",
      "Enter a letter to check the first occurences: ?\n",
      "You did not enter a valid letter, hence terminating the program.\n"
     ]
    }
   ],
   "source": [
    "try:\n",
    "    # Accepting a string input from the user and converting to lower cases for processing\n",
    "    string_input = input(\"Enter a string: \").lower()\n",
    "    # Accepting a character input from the user to count the number of first occurences and converting \n",
    "    # to lower cases for processing\n",
    "    letter_input = input(\"Enter a letter to check the first occurences: \").lower()\n",
    "    # Calling the function created in the above code block and passing the string and character as argument\n",
    "    first_char_counter(string_input,letter_input)\n",
    "except:\n",
    "    print(\"You did not enter a valid letter - except\")"
   ]
  },
  {
   "cell_type": "markdown",
   "metadata": {},
   "source": [
    "## Question-4: Palindrome Check"
   ]
  },
  {
   "cell_type": "markdown",
   "metadata": {},
   "source": [
    "## Algorithm:\n",
    "1. Start with a try except block to accept only string values.\n",
    "2. Enter a string to check if it is palindrome or not.\n",
    "3. Remove the spaces if there are any, in the string.\n",
    "4. Convert the string to lower cases to ease the verification process.\n",
    "5. If the string is same when read from backward and forward, print that it is a palindrome.\n",
    "6. If the string is NOT same when read from backwards and forwards, print that it is NOT a palindrome.\n",
    "7. Raise an exception if the entered input is not a string value.\n",
    "8. End the program."
   ]
  },
  {
   "cell_type": "markdown",
   "metadata": {},
   "source": [
    "## Instructions for running the program:\n",
    "- Upon executing the program, enter a string to check if it is a palindrome or not"
   ]
  },
  {
   "cell_type": "markdown",
   "metadata": {},
   "source": [
    "## Expected Results:\n",
    "- If the string is palindrome, \"{Input string}\" is a Palindrome\"\n",
    "- If the string is not a palindrome, \"{Input string}\" is not a Palindrome\"\n",
    "\n",
    "### Example:\n",
    "1. \n",
    "- Enter a string for palindrome check: A nut for a jar of tuna\n",
    "- \"A nut for a jar of tuna\" is a Palindrome\n",
    "2. \n",
    "- Enter a string for palindrome check: mala2y2alam\n",
    "- \"mala2y2alam\" is a Palindrome"
   ]
  },
  {
   "cell_type": "code",
   "execution_count": null,
   "metadata": {},
   "outputs": [],
   "source": [
    "try:\n",
    "    # Accepting a string input from the user to check if it palindrome or not\n",
    "    user_input = input(\"Enter a string for palindrome check: \")\n",
    "    # Removing the spaces from the spring using split and join functions\n",
    "    user_input_wo_space = \"\".join(user_input.split())\n",
    "    # Converting the new string without spaces to lower cases for easy processing\n",
    "    user_input_lower = user_input_wo_space.lower()\n",
    "    # Using string slicing methods to validate if the string is same from forward and backward\n",
    "    # [::-1] reverses the string\n",
    "    if user_input_lower == user_input_lower[::-1]:\n",
    "        # If the above condition is true, then the string is palindrome\n",
    "        print('\"{}:\" is a Palindrome'.format(user_input))\n",
    "    else:\n",
    "        # If the above condition is not true, then the string is not palindrome\n",
    "        print('\"{}:\" is not a Palindrome'.format(user_input))\n",
    "except:\n",
    "    print(\"You did not enter a string value-except\")"
   ]
  },
  {
   "cell_type": "markdown",
   "metadata": {},
   "source": [
    "## Question-5: Statistics on File"
   ]
  },
  {
   "cell_type": "markdown",
   "metadata": {},
   "source": [
    "## Algorithm:\n",
    "1. Start a try block which accepts the file name for processing.\n",
    "2. Open the file name and read all the lines.\n",
    "3. Count the number of lines.\n",
    "4. Remove the spaces and new line characters using split.\n",
    "5. Count the number of words in the file using a for loop.\n",
    "6. Count the number of characters in each word using a nested for loop.\n",
    "7. Calculate the average length of a word dividing the number of characters by the number of words.\n",
    "8. Close the file.\n",
    "9. Raise exception if the file does not exist in the directory.\n",
    "10. End the program."
   ]
  },
  {
   "cell_type": "markdown",
   "metadata": {},
   "source": [
    "## Instructions for running the program:\n",
    "- Upon executing the program, user will be prompted to enter the name of a file.\n",
    "- Enter the name of the file as it is (case-sensitive) and add a .txt extension at the end. Else no file exists exception is raised. Example: RobertFrost.txt"
   ]
  },
  {
   "cell_type": "markdown",
   "metadata": {},
   "source": [
    "## Expected Results:\n",
    "- After executing the program: total number of lines, total number of words, total characters and average length of a word is printed.\n",
    "- If the file does not exist in the directory, exception is raised.\n",
    "\n",
    "### Example:\n",
    "1. \n",
    "- Enter the name of the file: RobertFrost.txt\n",
    "- Lines count is:  4\n",
    "- Words count is:  27\n",
    "- Characters count is:  103\n",
    "- Average length of word is:  3.8"
   ]
  },
  {
   "cell_type": "markdown",
   "metadata": {},
   "source": [
    "## Logic for the program:\n",
    "- For total lines:\n",
    "    - using length of readlines, we are calculating the number of lines in the file.\n",
    "    - If the file is blank without any spaces or other characters, the number of lines printed is 0.\n",
    "- For total words:\n",
    "    - Using readlines, the words are appended into a list.\n",
    "    - Further, using the split() method, we are removing spaces, new line characters and white spaces.\n",
    "    - The new list does not include spaces. Using this, we will count the number of words in a file\n",
    "- For total characters:\n",
    "    - Based on the words from the new list above, we have removed the spaces and new line characters already.\n",
    "    - Using a nested for loop, we count the number of characters in the file which does not include spaces."
   ]
  },
  {
   "cell_type": "code",
   "execution_count": 2,
   "metadata": {},
   "outputs": [
    {
     "name": "stdout",
     "output_type": "stream",
     "text": [
      "Enter the name of the file: marytext.txt\n",
      "*****************:  ['Mary', 'had', 'a', 'little', 'lamb']\n",
      "*****************:  ['His', 'fleece', 'was', 'white', 'as', 'snow,', 'yeah']\n",
      "*****************:  ['New', 'line', 'is', 'appended..,', '..']\n",
      "*****************:  []\n",
      "*****************:  []\n",
      "*****************:  ['.', '.']\n",
      "Lines count is:  6\n",
      "Words count is:  19\n",
      "Characters count is:  70\n",
      "Average length of word is:  3.7\n"
     ]
    }
   ],
   "source": [
    "# If the file does not exist in the working directory, exception is raised\n",
    "try:\n",
    "    # Accepting a file name from the user\n",
    "    file_name = input(\"Enter the name of the file: \")\n",
    "    # Opening the file for reading purpose\n",
    "    text_file = open(file_name)\n",
    "    # Reading all the lines of the file at once and appending it to a list\n",
    "    lines = text_file.readlines()\n",
    "    # Calculating the number of lines of the file by counting the number of elements in the list\n",
    "    number_lines = len(lines)\n",
    "    # Initiating the word and character count as 0\n",
    "    words_count = 0\n",
    "    characters_count = 0\n",
    "    # Creating an empty list to later split and then append the words from the lines of the file\n",
    "    word_list = []\n",
    "    # Looping through each line\n",
    "    for line in lines:\n",
    "        # Splitting up the words from each line and appending it to the list\n",
    "        # Spit function here removes all the spaces and end line characters associated before and after a word\n",
    "        word_list = line.split()\n",
    "        # Lopping through each word to count the number of characters\n",
    "        for i in word_list:\n",
    "            # Counting the number of characters in the file\n",
    "            characters_count += len(i) \n",
    "        # Counting the number of words in the file\n",
    "        words_count += len(line.split())\n",
    "    # Incase the file is blank, it does not have any words\n",
    "    # Giving the below condition to avoid zero division exception whie finding average length of a word\n",
    "    if words_count == 0:\n",
    "        avg_len = 0\n",
    "    else:\n",
    "        # Calculating the average number of  character each word has\n",
    "        # Rounding off the value to one decimal place using the round function\n",
    "        avg_len = round(characters_count/words_count,1)\n",
    "    # Printing the results on the screen.\n",
    "    print(\"Lines count is: \",number_lines)\n",
    "    print(\"Words count is: \",words_count)\n",
    "    print(\"Characters count is: \",characters_count)\n",
    "    print(\"Average length of word is: \",avg_len)\n",
    "    # Closing the file as a good practice after getting the results\n",
    "    text_file.close()\n",
    "# Raising exception if the file does not exist in the directory\n",
    "except:\n",
    "    print(\"Invalid file name-File does not exist\")"
   ]
  },
  {
   "cell_type": "code",
   "execution_count": null,
   "metadata": {},
   "outputs": [],
   "source": []
  }
 ],
 "metadata": {
  "kernelspec": {
   "display_name": "myenv",
   "language": "python",
   "name": "myenv"
  },
  "language_info": {
   "codemirror_mode": {
    "name": "ipython",
    "version": 3
   },
   "file_extension": ".py",
   "mimetype": "text/x-python",
   "name": "python",
   "nbconvert_exporter": "python",
   "pygments_lexer": "ipython3",
   "version": "3.8.5"
  }
 },
 "nbformat": 4,
 "nbformat_minor": 4
}
